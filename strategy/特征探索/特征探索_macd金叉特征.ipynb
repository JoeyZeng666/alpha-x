{
 "cells": [
  {
   "cell_type": "code",
   "id": "initial_id",
   "metadata": {
    "collapsed": true,
    "ExecuteTime": {
     "end_time": "2024-08-17T06:44:57.064227Z",
     "start_time": "2024-08-17T06:44:57.006233Z"
    }
   },
   "source": [
    "import pandas as pd\n",
    "\n",
    "from alphax.dataset import DATASET_DIR\n",
    "\n",
    "train_data = pd.read_csv(f\"{DATASET_DIR}/candle/5m/DOGE_USDT:USDT_2024-01-01 00:00:00_2024-07-01 00:00:00.csv\")\n",
    "\n",
    "# 删除不需要的列\n",
    "train_data.drop(columns=[\"high\", \"low\", \"open\",\"volume\"], inplace=True)\n",
    "train_data.head()"
   ],
   "outputs": [
    {
     "data": {
      "text/plain": "             timestamp    close\n0  2023-12-31 16:00:00  0.09018\n1  2023-12-31 16:05:00  0.09023\n2  2023-12-31 16:10:00  0.09044\n3  2023-12-31 16:15:00  0.09043\n4  2023-12-31 16:20:00  0.09046",
      "text/html": "<div>\n<style scoped>\n    .dataframe tbody tr th:only-of-type {\n        vertical-align: middle;\n    }\n\n    .dataframe tbody tr th {\n        vertical-align: top;\n    }\n\n    .dataframe thead th {\n        text-align: right;\n    }\n</style>\n<table border=\"1\" class=\"dataframe\">\n  <thead>\n    <tr style=\"text-align: right;\">\n      <th></th>\n      <th>timestamp</th>\n      <th>close</th>\n    </tr>\n  </thead>\n  <tbody>\n    <tr>\n      <th>0</th>\n      <td>2023-12-31 16:00:00</td>\n      <td>0.09018</td>\n    </tr>\n    <tr>\n      <th>1</th>\n      <td>2023-12-31 16:05:00</td>\n      <td>0.09023</td>\n    </tr>\n    <tr>\n      <th>2</th>\n      <td>2023-12-31 16:10:00</td>\n      <td>0.09044</td>\n    </tr>\n    <tr>\n      <th>3</th>\n      <td>2023-12-31 16:15:00</td>\n      <td>0.09043</td>\n    </tr>\n    <tr>\n      <th>4</th>\n      <td>2023-12-31 16:20:00</td>\n      <td>0.09046</td>\n    </tr>\n  </tbody>\n</table>\n</div>"
     },
     "execution_count": 16,
     "metadata": {},
     "output_type": "execute_result"
    }
   ],
   "execution_count": 16
  },
  {
   "cell_type": "code",
   "source": [
    "# 构建涨幅率，涨幅率 = (后一行的close - 当前一行close) / 当前一行的close\n",
    "train_data['price_rate'] =  (train_data[\"close\"].shift(-1) - train_data[\"close\"]) / train_data[\"close\"]\n",
    "train_data['target'] = train_data['price_rate'] > 0.002\n",
    "train_data['is_up'] = train_data['price_rate'] > 0\n",
    "# 统计一下target为true的数量\n",
    "train_data['is_up'].value_counts()\n",
    "train_data['target'].value_counts()\n"
   ],
   "metadata": {
    "collapsed": false,
    "ExecuteTime": {
     "end_time": "2024-08-17T06:54:17.757243Z",
     "start_time": "2024-08-17T06:54:17.748648Z"
    }
   },
   "id": "fc51e5cd47e4c01a",
   "outputs": [
    {
     "data": {
      "text/plain": "target\nFalse    43497\nTrue      8969\nName: count, dtype: int64"
     },
     "execution_count": 27,
     "metadata": {},
     "output_type": "execute_result"
    }
   ],
   "execution_count": 27
  },
  {
   "metadata": {
    "ExecuteTime": {
     "end_time": "2024-08-17T06:44:57.079704Z",
     "start_time": "2024-08-17T06:44:57.071831Z"
    }
   },
   "cell_type": "code",
   "source": [
    "from talib import MACD\n",
    "\n",
    "macd, macd_signal, macd_hist = MACD(train_data['close'], fastperiod=12, slowperiod=26, signalperiod=9)\n",
    "train_data['macd'] = macd\n",
    "train_data['signal'] = macd_signal\n",
    "train_data['hist'] = macd_hist\n",
    "\n",
    "train_data.dropna(inplace=True)"
   ],
   "id": "3171167e8d01f60d",
   "outputs": [],
   "execution_count": 18
  },
  {
   "metadata": {
    "ExecuteTime": {
     "end_time": "2024-08-17T06:44:57.087136Z",
     "start_time": "2024-08-17T06:44:57.080909Z"
    }
   },
   "cell_type": "code",
   "source": [
    "from alphax.core.utils.math_util import MathUtil\n",
    "import numpy as np\n",
    "\n",
    "\n",
    "train_data['golden_cross'] = np.where((train_data['macd'].shift(1) < train_data['signal'].shift(1)) & \n",
    "                                      (train_data['macd'] > train_data['signal']), 1, 0)\n",
    "\n",
    "train_data.head()\n"
   ],
   "id": "b65788dd2b331054",
   "outputs": [
    {
     "data": {
      "text/plain": "              timestamp    close  price_rate  target  is_up      macd  \\\n33  2023-12-31 18:45:00  0.09053   -0.000221   False  False  0.000033   \n34  2023-12-31 18:50:00  0.09051    0.000331   False   True  0.000027   \n35  2023-12-31 18:55:00  0.09054    0.000221   False   True  0.000024   \n36  2023-12-31 19:00:00  0.09056    0.000110   False   True  0.000023   \n37  2023-12-31 19:05:00  0.09057   -0.000994   False  False  0.000023   \n\n      signal      hist  golden_cross  \n33  0.000040 -0.000007             0  \n34  0.000037 -0.000010             0  \n35  0.000034 -0.000011             0  \n36  0.000032 -0.000009             0  \n37  0.000030 -0.000007             0  ",
      "text/html": "<div>\n<style scoped>\n    .dataframe tbody tr th:only-of-type {\n        vertical-align: middle;\n    }\n\n    .dataframe tbody tr th {\n        vertical-align: top;\n    }\n\n    .dataframe thead th {\n        text-align: right;\n    }\n</style>\n<table border=\"1\" class=\"dataframe\">\n  <thead>\n    <tr style=\"text-align: right;\">\n      <th></th>\n      <th>timestamp</th>\n      <th>close</th>\n      <th>price_rate</th>\n      <th>target</th>\n      <th>is_up</th>\n      <th>macd</th>\n      <th>signal</th>\n      <th>hist</th>\n      <th>golden_cross</th>\n    </tr>\n  </thead>\n  <tbody>\n    <tr>\n      <th>33</th>\n      <td>2023-12-31 18:45:00</td>\n      <td>0.09053</td>\n      <td>-0.000221</td>\n      <td>False</td>\n      <td>False</td>\n      <td>0.000033</td>\n      <td>0.000040</td>\n      <td>-0.000007</td>\n      <td>0</td>\n    </tr>\n    <tr>\n      <th>34</th>\n      <td>2023-12-31 18:50:00</td>\n      <td>0.09051</td>\n      <td>0.000331</td>\n      <td>False</td>\n      <td>True</td>\n      <td>0.000027</td>\n      <td>0.000037</td>\n      <td>-0.000010</td>\n      <td>0</td>\n    </tr>\n    <tr>\n      <th>35</th>\n      <td>2023-12-31 18:55:00</td>\n      <td>0.09054</td>\n      <td>0.000221</td>\n      <td>False</td>\n      <td>True</td>\n      <td>0.000024</td>\n      <td>0.000034</td>\n      <td>-0.000011</td>\n      <td>0</td>\n    </tr>\n    <tr>\n      <th>36</th>\n      <td>2023-12-31 19:00:00</td>\n      <td>0.09056</td>\n      <td>0.000110</td>\n      <td>False</td>\n      <td>True</td>\n      <td>0.000023</td>\n      <td>0.000032</td>\n      <td>-0.000009</td>\n      <td>0</td>\n    </tr>\n    <tr>\n      <th>37</th>\n      <td>2023-12-31 19:05:00</td>\n      <td>0.09057</td>\n      <td>-0.000994</td>\n      <td>False</td>\n      <td>False</td>\n      <td>0.000023</td>\n      <td>0.000030</td>\n      <td>-0.000007</td>\n      <td>0</td>\n    </tr>\n  </tbody>\n</table>\n</div>"
     },
     "execution_count": 19,
     "metadata": {},
     "output_type": "execute_result"
    }
   ],
   "execution_count": 19
  },
  {
   "metadata": {
    "ExecuteTime": {
     "end_time": "2024-08-17T06:44:57.851946Z",
     "start_time": "2024-08-17T06:44:57.087933Z"
    }
   },
   "cell_type": "code",
   "source": [
    "# 用plot 展示一下 price_diff_rate 在 macd_hist_slope 下的分布\n",
    "import matplotlib.pyplot as plt\n",
    "import seaborn as sns\n",
    "# 求一个数字的绝对值\n",
    "\n",
    "# filtered_df = train_data[train_data['golden_cross'] == 1 ]\n",
    "# filtered_df = train_data[train_data['macd_hist_slope']]\n",
    "filtered_df = train_data\n",
    "sns.jointplot(x='golden_cross', y='price_rate', data=filtered_df, kind='scatter')\n",
    "plt.show()\n"
   ],
   "id": "e52303760de1d80e",
   "outputs": [
    {
     "data": {
      "text/plain": "<Figure size 600x600 with 3 Axes>",
      "image/png": "[encoded data removed]"
     },
     "metadata": {},
     "output_type": "display_data"
    }
   ],
   "execution_count": 20
  },
  {
   "cell_type": "code",
   "outputs": [
    {
     "data": {
      "text/plain": "target\nFalse    1769\nTrue      355\nName: count, dtype: int64"
     },
     "execution_count": 24,
     "metadata": {},
     "output_type": "execute_result"
    }
   ],
   "source": [
    "filtered_df = train_data[train_data['golden_cross'] == 1 ]\n",
    "# 统计一下 filtered_df 中 target 为true的数量\n",
    "filtered_df['target'].value_counts()\n"
   ],
   "metadata": {
    "collapsed": false,
    "ExecuteTime": {
     "end_time": "2024-08-17T06:53:31.995251Z",
     "start_time": "2024-08-17T06:53:31.988935Z"
    }
   },
   "id": "de45c6494a5a4e6",
   "execution_count": 24
  },
  {
   "cell_type": "code",
   "outputs": [],
   "source": [],
   "metadata": {
    "collapsed": false,
    "ExecuteTime": {
     "end_time": "2024-08-17T06:44:57.859833Z",
     "start_time": "2024-08-17T06:44:57.858424Z"
    }
   },
   "id": "d839b7e1696a0048",
   "execution_count": 21
  },
  {
   "cell_type": "code",
   "outputs": [],
   "source": [],
   "metadata": {
    "collapsed": false,
    "ExecuteTime": {
     "end_time": "2024-08-17T06:44:57.861633Z",
     "start_time": "2024-08-17T06:44:57.860387Z"
    }
   },
   "id": "ecf2a296a0a44309",
   "execution_count": 21
  }
 ],
 "metadata": {
  "kernelspec": {
   "display_name": "Python 3",
   "language": "python",
   "name": "python3"
  },
  "language_info": {
   "codemirror_mode": {
    "name": "ipython",
    "version": 2
   },
   "file_extension": ".py",
   "mimetype": "text/x-python",
   "name": "python",
   "nbconvert_exporter": "python",
   "pygments_lexer": "ipython2",
   "version": "2.7.6"
  }
 },
 "nbformat": 4,
 "nbformat_minor": 5
}
