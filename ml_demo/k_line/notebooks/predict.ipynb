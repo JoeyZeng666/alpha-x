{
 "cells": [
  {
   "cell_type": "code",
   "execution_count": 4,
   "metadata": {},
   "outputs": [
    {
     "name": "stdout",
     "output_type": "stream",
     "text": [
      "训练集特征：\n",
      "(1187, 10)\n",
      "\n",
      "训练集目标：\n",
      "(1187,)\n",
      "{'bootstrap': True, 'max_depth': 10, 'max_features': 'sqrt', 'min_samples_leaf': 12, 'min_samples_split': 2, 'n_estimators': 5}\n",
      "-9.140056709772426e-06\n",
      "训练结束，特征重要性如下：\n",
      "            Variable  Importance\n",
      "1          close_ema    0.303857\n",
      "5                atr    0.147873\n",
      "3          close_rsi    0.143666\n",
      "4    close_macd_hist    0.140321\n",
      "0          close_sma    0.060249\n",
      "2  close_bb_position    0.059081\n",
      "9         williams_r    0.045712\n",
      "6              slowk    0.040476\n",
      "8      vwap_position    0.029623\n",
      "7              slowd    0.029142\n"
     ]
    },
    {
     "data": {
      "text/plain": [
       "['/Users/zengyan/Excelsior/ai-trader/temp/doge_5m_0701_0705_1_rf_model.pkl']"
      ]
     },
     "execution_count": 4,
     "metadata": {},
     "output_type": "execute_result"
    }
   ],
   "source": [
    "import datetime\n",
    "import sys\n",
    "import pandas as pd\n",
    "import numpy as np\n",
    "import sklearn\n",
    "from sklearn.model_selection import train_test_split\n",
    "\n",
    "# 为了自动处理超参数\n",
    "from sklearn.model_selection import GridSearchCV\n",
    "\n",
    "from sklearn.ensemble import RandomForestRegressor\n",
    "import joblib\n",
    "\n",
    "# 读取数据\n",
    "data  = pd.read_csv('/Users/zengyan/Excelsior/ai-trader/temp/doge_5m_0701_0705_1_featured_targeted.csv')\n",
    "\n",
    "data.drop(columns=['timestamp','open','high','low','close','volume'], inplace=True)\n",
    "target = data['target']\n",
    "only_features = data.drop(columns=['target'])\n",
    "\n",
    "x_train ,y_train = only_features,target\n",
    "\n",
    "print(\"训练集特征：\")\n",
    "print(x_train.shape)\n",
    "print(\"\\n训练集目标：\")\n",
    "print(y_train.shape)\n",
    "\n",
    "\n",
    "rf = RandomForestRegressor( random_state=42, n_jobs=-1)\n",
    "\n",
    "# 这里有更合适的参数么？\n",
    "#  oob_score 用于\n",
    "# 定义参数网格\n",
    "param_grid = {\n",
    "    \"n_estimators\": [5,25, 50,75, 100], \n",
    "    'max_features': ['sqrt', 'log2'],\n",
    "    'max_depth': [10, 20, 30, 40,50],\n",
    "    'min_samples_split': [2, 5, 10,16,24],\n",
    "    'min_samples_leaf': [1, 2, 4,8,12],\n",
    "    'bootstrap': [True, False]\n",
    "}\n",
    "# param_grid = {\n",
    "#     \"n_estimators\": [5,25, 50], \n",
    "#     'max_features': ['sqrt'],\n",
    "#     'max_depth': [10, 20, 30],\n",
    "#     'min_samples_split': [2, 5, 10],\n",
    "#     'min_samples_leaf': [2, 4,8],\n",
    "#     'bootstrap': [True, False]\n",
    "# }\n",
    "\n",
    "gs = GridSearchCV(estimator=rf, param_grid=param_grid, scoring='neg_mean_squared_error', cv=3, n_jobs=-1)\n",
    "gs = gs.fit(x_train, y_train)\n",
    "print(gs.best_params_)\n",
    "print(gs.best_score_)\n",
    "\n",
    "\n",
    "\n",
    "final_rf = RandomForestRegressor(n_jobs=-1,\n",
    "                                 random_state=42,\n",
    "                                 n_estimators=gs.best_params_['n_estimators'],\n",
    "                                 max_features=gs.best_params_['max_features'],\n",
    "                                 max_depth=gs.best_params_['max_depth'],\n",
    "                                 min_samples_split=gs.best_params_['min_samples_split'],\n",
    "                                 min_samples_leaf=gs.best_params_['min_samples_leaf'],\n",
    "                                 bootstrap=gs.best_params_['bootstrap']\n",
    "                                )\n",
    "final_rf.fit(x_train, y_train)\n",
    "df1 = pd.DataFrame(x_train.columns,columns=['Variable'])\n",
    "df2 = pd.DataFrame(final_rf.feature_importances_,columns=['Importance'])\n",
    "variable_importances = pd.concat([df1,df2],axis=1).sort_values(by='Importance',ascending=False)\n",
    "print(\"训练结束，特征重要性如下：\")\n",
    "print(variable_importances)\n",
    "# 保存模型\n",
    "joblib.dump(final_rf, '/Users/zengyan/Excelsior/ai-trader/temp/doge_5m_0701_0705_1_rf_model.pkl')\n",
    "\n"
   ]
  }
 ],
 "metadata": {
  "kernelspec": {
   "display_name": "ai_trader",
   "language": "python",
   "name": "python3"
  },
  "language_info": {
   "codemirror_mode": {
    "name": "ipython",
    "version": 3
   },
   "file_extension": ".py",
   "mimetype": "text/x-python",
   "name": "python",
   "nbconvert_exporter": "python",
   "pygments_lexer": "ipython3",
   "version": "3.11.8"
  }
 },
 "nbformat": 4,
 "nbformat_minor": 2
}
