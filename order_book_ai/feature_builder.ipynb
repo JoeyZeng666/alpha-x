{
 "cells": [
  {
   "cell_type": "code",
   "execution_count": 1,
   "metadata": {},
   "outputs": [
    {
     "name": "stderr",
     "output_type": "stream",
     "text": [
      "/var/folders/14/djzvbv312951ytxybb9bdcb00000gn/T/ipykernel_56435/2190754619.py:16: FutureWarning: 'S' is deprecated and will be removed in a future version, please use 's' instead.\n",
      "  df_unique_second = data.groupby(data.index.floor('S')).first()\n"
     ]
    }
   ],
   "source": [
    "import datetime\n",
    "import sys\n",
    "import pandas as pd\n",
    "import numpy as np\n",
    "import sklearn\n",
    "\n",
    "# 读取数据\n",
    "data  = pd.read_csv('dataset_temp/okxorderbook20240421_1_cleaned.csv')\n",
    "\n",
    "def unique_second(data):\n",
    "    # 每一秒只保留一个数据\n",
    "    data['datetime'] = pd.to_datetime(data['server_time'], unit='ms')\n",
    "    # 设置server_time为索引\n",
    "    data.set_index('datetime', inplace=True)\n",
    "    # 按秒对server_time进行分组，并选择每个组的第一个记录\n",
    "    df_unique_second = data.groupby(data.index.floor('S')).first()\n",
    "    # 如果需要，可以将结果转换回DataFrame，并重置索引\n",
    "    df_unique_second = df_unique_second.reset_index()\n",
    "    return df_unique_second\n",
    "\n",
    "\n",
    "data = unique_second(data)\n",
    "\n",
    "# 当前价格，就是卖一价\n",
    "data['price'] = data['ask_1_price']\n",
    "\n"
   ]
  },
  {
   "cell_type": "code",
   "execution_count": 2,
   "metadata": {},
   "outputs": [],
   "source": [
    "def get_price_rise_radio(data):\n",
    "    # 从5秒 到 60 秒，步长为5秒\n",
    "    for i in range(5,60,5 ):\n",
    "        data['rise_radio_' + str(i)] = data['price'].pct_change(i)\n",
    "    return data\n",
    "\n",
    "data = get_price_rise_radio(data)\n",
    "data.to_csv('dataset_temp/okxorderbook20240421_1_cleaned_rise_radio.csv', index=False)"
   ]
  },
  {
   "cell_type": "code",
   "execution_count": null,
   "metadata": {},
   "outputs": [],
   "source": []
  }
 ],
 "metadata": {
  "kernelspec": {
   "display_name": "ai_trader",
   "language": "python",
   "name": "python3"
  },
  "language_info": {
   "codemirror_mode": {
    "name": "ipython",
    "version": 3
   },
   "file_extension": ".py",
   "mimetype": "text/x-python",
   "name": "python",
   "nbconvert_exporter": "python",
   "pygments_lexer": "ipython3",
   "version": "3.11.9"
  }
 },
 "nbformat": 4,
 "nbformat_minor": 2
}
