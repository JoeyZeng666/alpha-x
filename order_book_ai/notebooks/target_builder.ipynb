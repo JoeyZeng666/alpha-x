{
 "cells": [
  {
   "cell_type": "code",
   "execution_count": 1,
   "metadata": {},
   "outputs": [
    {
     "data": {
      "text/plain": [
       "0      64806.1\n",
       "1      64801.3\n",
       "2      64800.0\n",
       "3      64800.0\n",
       "4      64800.0\n",
       "        ...   \n",
       "197    65180.3\n",
       "198    65176.8\n",
       "199    65176.8\n",
       "200    65176.8\n",
       "201    65176.8\n",
       "Name: price, Length: 202, dtype: float64"
      ]
     },
     "execution_count": 1,
     "metadata": {},
     "output_type": "execute_result"
    }
   ],
   "source": [
    "import datetime\n",
    "import sys\n",
    "import pandas as pd\n",
    "import numpy as np\n",
    "import sklearn\n",
    "\n",
    "# 读取数据\n",
    "data  = pd.read_csv('/Users/zengyan/Excelsior/ai-trader/order_book_ai/data/okxorderbook20240421_1_cleaned_featured.csv')\n",
    "price = data['price']\n",
    "price\n",
    "\n"
   ]
  },
  {
   "cell_type": "code",
   "execution_count": 2,
   "metadata": {},
   "outputs": [],
   "source": [
    "gap = -60\n",
    "feature_price = price.shift(gap)\n",
    "rise_percent = round((feature_price - price )/price, 4)\n",
    "data['is_up'] = (rise_percent > 0.01).astype(int)\n",
    "data.loc[data.index[-60:], 'is_up'] = np.nan\n",
    "\n",
    "data['is_down'] = (rise_percent < - 0.01).astype(int)\n",
    "data.loc[data.index[-60:], 'is_down'] = np.nan\n",
    "\n",
    "data.to_csv('/Users/zengyan/Excelsior/ai-trader/order_book_ai/data/okxorderbook20240421_1_cleaned_featured_targeted.csv', index=False)\n"
   ]
  }
 ],
 "metadata": {
  "kernelspec": {
   "display_name": "ai_trader",
   "language": "python",
   "name": "python3"
  },
  "language_info": {
   "codemirror_mode": {
    "name": "ipython",
    "version": 3
   },
   "file_extension": ".py",
   "mimetype": "text/x-python",
   "name": "python",
   "nbconvert_exporter": "python",
   "pygments_lexer": "ipython3",
   "version": "3.11.8"
  }
 },
 "nbformat": 4,
 "nbformat_minor": 2
}
