{
 "cells": [
  {
   "cell_type": "markdown",
   "metadata": {},
   "source": [
    "### 泰坦尼克号幸存者\n",
    "这里是一个「泰坦尼克号幸存者预测」的demo。可以快速熟悉整个流程。\n",
    "1. 数据处理\n",
    "2. 特征处理\n",
    "3. 选择模型\n",
    "4. 训练\n",
    "5. 产出结果\n",
    "数据源：https://ai-training-data-1253534728.cos.ap-beijing.myqcloud.com/public/titanic.zip\n",
    "\n",
    "请把数据下载到本文件同级别dataset_temp 文件夹中，不要提交到远端库"
   ]
  }
 ],
 "metadata": {
  "kernelspec": {
   "display_name": "Python 3",
   "language": "python",
   "name": "python3"
  },
  "language_info": {
   "name": "python",
   "version": "3.11.9"
  }
 },
 "nbformat": 4,
 "nbformat_minor": 2
}
