{
 "cells": [
  {
   "cell_type": "code",
   "execution_count": 7,
   "metadata": {},
   "outputs": [],
   "source": [
    "import datetime\n",
    "import sys\n",
    "import pandas as pd\n",
    "import numpy as np\n",
    "import sklearn\n",
    "\n",
    "# 读取数据\n",
    "data  = pd.read_csv('/Users/zengyan/Excelsior/ai-trader/temp/doge_5m_0701_0705_1_featured.csv')\n",
    "price = data['close']\n",
    "gap = -1\n",
    "target_price = price.shift(gap)\n",
    "data['target'] = (target_price-price)/price\n",
    "\n",
    "# # 删除包含空值的行\n",
    "data.replace('', np.nan, inplace=True)\n",
    "data = data.dropna()\n",
    "\n",
    "data.to_csv('/Users/zengyan/Excelsior/ai-trader/temp/doge_5m_0701_0705_1_featured_targeted.csv', index=False)\n",
    "\n"
   ]
  },
  {
   "cell_type": "code",
   "execution_count": null,
   "metadata": {},
   "outputs": [],
   "source": []
  }
 ],
 "metadata": {
  "kernelspec": {
   "display_name": "ai_trader",
   "language": "python",
   "name": "python3"
  },
  "language_info": {
   "codemirror_mode": {
    "name": "ipython",
    "version": 3
   },
   "file_extension": ".py",
   "mimetype": "text/x-python",
   "name": "python",
   "nbconvert_exporter": "python",
   "pygments_lexer": "ipython3",
   "version": "3.11.8"
  }
 },
 "nbformat": 4,
 "nbformat_minor": 2
}
